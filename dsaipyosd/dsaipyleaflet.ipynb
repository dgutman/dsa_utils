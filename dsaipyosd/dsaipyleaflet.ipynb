{
 "cells": [
  {
   "cell_type": "code",
   "execution_count": 1,
   "metadata": {},
   "outputs": [],
   "source": [
    "from ipyleaflet import Map, Marker\n",
    "import ipyleaflet\n",
    "#https://ipyleaflet.readthedocs.io/en/latest/layers/index.html\n",
    "#https://www.justinpinkney.com/trying-leaflet/\n",
    "\n",
    "# m = Map()\n",
    "\n",
    "# wsi_layer = ipyleaflet.leaflet.TileLayer(url=\"https://api.digitalslidearchive.org/api/v1/item/5b9f00ebe62914002e94cf03/tiles.dzi\")\n",
    "\n",
    "# # <BigImage \n",
    "# #     options={ {center:[-0.25, 0.35], zoom:10, minZoom:9, maxZoom:14 } } \n",
    "# #     tile_url=\"http://assets.justinpinkney.com/sandbox/montage/montage_files/{z}/{x}_{y}.jpg\" />\n",
    "\n",
    "# #marker = Marker(location=center, draggable=True)\n",
    "# m.add_layer(wsi_layer);\n",
    "# display(m)\n",
    "\n",
    "# Now that the marker is on the Map, you can drag it with your mouse,\n",
    "# it will automatically update the `marker.location` attribute in Python\n",
    "\n",
    "# You can also update the marker location from Python, that will update the\n",
    "# marker location on the Map:\n"
   ]
  },
  {
   "cell_type": "code",
   "execution_count": 2,
   "metadata": {},
   "outputs": [
    {
     "data": {
      "application/vnd.jupyter.widget-view+json": {
       "model_id": "372c27c2f76046f493ab21d41a826229",
       "version_major": 2,
       "version_minor": 0
      },
      "text/plain": [
       "Map(center=[52.204793, 360.121558], controls=(ZoomControl(options=['position', 'zoom_in_text', 'zoom_in_title'…"
      ]
     },
     "metadata": {},
     "output_type": "display_data"
    }
   ],
   "source": [
    "from ipyleaflet import Map, basemaps, basemap_to_tiles\n",
    "\n",
    "m = Map(\n",
    "    basemap=basemap_to_tiles(basemaps.NASAGIBS.ModisTerraTrueColorCR, \"2017-04-08\"),\n",
    "    center=(52.204793, 360.121558),\n",
    "    zoom=4\n",
    ")\n",
    "\n",
    "m"
   ]
  }
 ],
 "metadata": {
  "kernelspec": {
   "display_name": "Python 3",
   "language": "python",
   "name": "python3"
  },
  "language_info": {
   "codemirror_mode": {
    "name": "ipython",
    "version": 3
   },
   "file_extension": ".py",
   "mimetype": "text/x-python",
   "name": "python",
   "nbconvert_exporter": "python",
   "pygments_lexer": "ipython3",
   "version": "3.7.3"
  }
 },
 "nbformat": 4,
 "nbformat_minor": 2
}
